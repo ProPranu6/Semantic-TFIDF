{
 "cells": [
  {
   "cell_type": "code",
   "execution_count": 38,
   "id": "db77baac",
   "metadata": {},
   "outputs": [
    {
     "name": "stderr",
     "output_type": "stream",
     "text": [
      "[nltk_data] Downloading package wordnet to\n",
      "[nltk_data]     C:\\Users\\T.PRANEETH\\AppData\\Roaming\\nltk_data...\n",
      "[nltk_data]   Package wordnet is already up-to-date!\n"
     ]
    },
    {
     "name": "stdout",
     "output_type": "stream",
     "text": [
      "Loading fasttext-wiki-news-subwords-300 word2vectors\n",
      "The module load time : 186.91360020637512s\n"
     ]
    }
   ],
   "source": [
    "from semantic_tfidf import SemanticTFIDF, SAMPLE_PARAGRAPHS as sp"
   ]
  },
  {
   "cell_type": "code",
   "execution_count": 13,
   "id": "d8363972",
   "metadata": {},
   "outputs": [],
   "source": [
    "import os\n",
    "import pandas as pd\n",
    "import queue"
   ]
  },
  {
   "cell_type": "code",
   "execution_count": 25,
   "id": "b097a313",
   "metadata": {},
   "outputs": [
    {
     "data": {
      "text/html": [
       "<div>\n",
       "<style scoped>\n",
       "    .dataframe tbody tr th:only-of-type {\n",
       "        vertical-align: middle;\n",
       "    }\n",
       "\n",
       "    .dataframe tbody tr th {\n",
       "        vertical-align: top;\n",
       "    }\n",
       "\n",
       "    .dataframe thead th {\n",
       "        text-align: right;\n",
       "    }\n",
       "</style>\n",
       "<table border=\"1\" class=\"dataframe\">\n",
       "  <thead>\n",
       "    <tr style=\"text-align: right;\">\n",
       "      <th></th>\n",
       "      <th>locs</th>\n",
       "    </tr>\n",
       "  </thead>\n",
       "  <tbody>\n",
       "    <tr>\n",
       "      <th>0</th>\n",
       "      <td>C:/Users/T.PRANEETH/all_raw_answers.txt</td>\n",
       "    </tr>\n",
       "    <tr>\n",
       "      <th>1</th>\n",
       "      <td>C:/Users/T.PRANEETH/jaymama_chat.txt</td>\n",
       "    </tr>\n",
       "    <tr>\n",
       "      <th>2</th>\n",
       "      <td>C:/Users/T.PRANEETH/requirements.txt</td>\n",
       "    </tr>\n",
       "    <tr>\n",
       "      <th>3</th>\n",
       "      <td>C:/Users/T.PRANEETH/.conda/environments.txt</td>\n",
       "    </tr>\n",
       "    <tr>\n",
       "      <th>4</th>\n",
       "      <td>C:/Users/T.PRANEETH/anaconda3/LICENSE_PYTHON.txt</td>\n",
       "    </tr>\n",
       "  </tbody>\n",
       "</table>\n",
       "</div>"
      ],
      "text/plain": [
       "                                               locs\n",
       "0           C:/Users/T.PRANEETH/all_raw_answers.txt\n",
       "1              C:/Users/T.PRANEETH/jaymama_chat.txt\n",
       "2              C:/Users/T.PRANEETH/requirements.txt\n",
       "3       C:/Users/T.PRANEETH/.conda/environments.txt\n",
       "4  C:/Users/T.PRANEETH/anaconda3/LICENSE_PYTHON.txt"
      ]
     },
     "execution_count": 25,
     "metadata": {},
     "output_type": "execute_result"
    }
   ],
   "source": [
    "def get_all_text_files(home_dir, count=10):\n",
    "    q = queue.Queue()\n",
    "    text_file_locs = []\n",
    "    q.put(home_dir)\n",
    "    file_count = 0\n",
    "    while not(q.empty()):\n",
    "        if file_count >= count:\n",
    "            break\n",
    "        dir_to_search = q.get()\n",
    "        try:\n",
    "            for fi in os.listdir(dir_to_search):\n",
    "                loc = dir_to_search + '/' + fi\n",
    "                if loc.endswith('.txt'):\n",
    "                    text_file_locs.append(loc)\n",
    "                    file_count += 1\n",
    "                elif not(os.path.isfile(loc)):\n",
    "                    q.put(loc)\n",
    "                else:\n",
    "                    pass\n",
    "        except:\n",
    "            pass\n",
    "    \n",
    "    your_files = pd.DataFrame({'locs':text_file_locs})\n",
    "    your_files.to_csv(os.getcwd()+f'/your_files_{count}.csv')\n",
    "    return your_files\n",
    "\n",
    "\n",
    "my_text_files = get_all_text_files('C:/Users/T.PRANEETH', count=1000)\n",
    "my_text_files.head()"
   ]
  },
  {
   "cell_type": "code",
   "execution_count": 37,
   "id": "ac208f37",
   "metadata": {},
   "outputs": [
    {
     "data": {
      "text/plain": [
       "'C:/Users/T.PRANEETH/all_raw_answers.txt'"
      ]
     },
     "execution_count": 37,
     "metadata": {},
     "output_type": "execute_result"
    }
   ],
   "source": [
    "row = next(my_text_files.iterrows())[1]\n",
    "row['locs']"
   ]
  },
  {
   "cell_type": "code",
   "execution_count": 46,
   "id": "2fc0b0d3",
   "metadata": {},
   "outputs": [
    {
     "data": {
      "text/plain": [
       "'C:/Users/T.PRANEETH/all_raw_answers.txt'"
      ]
     },
     "execution_count": 46,
     "metadata": {},
     "output_type": "execute_result"
    }
   ],
   "source": [
    "my_text_files['locs'][0]"
   ]
  },
  {
   "cell_type": "code",
   "execution_count": 63,
   "id": "1db99fb4",
   "metadata": {},
   "outputs": [],
   "source": [
    "from urllib.request import urlopen\n",
    "from bs4 import BeautifulSoup\n",
    "\n",
    "\n",
    "def get_text_as_paras(url):\n",
    "    html = urlopen(url).read()\n",
    "    soup = BeautifulSoup(html, features=\"html.parser\")\n",
    "\n",
    "    # kill all script and style elements\n",
    "    for script in soup([\"script\", \"style\"]):\n",
    "        script.extract()    # rip it out\n",
    "\n",
    "    # get text\n",
    "    text = soup.get_text()\n",
    "\n",
    "    # break into lines and remove leading and trailing space on each\n",
    "    lines = (line.strip() for line in text.splitlines())\n",
    "    # break multi-headlines into a line each\n",
    "    chunks = (phrase.strip() for line in lines for phrase in line.split(\"  \"))\n",
    "    # drop blank lines\n",
    "    text = [chunk for chunk in chunks if chunk]\n",
    "\n",
    "    return text"
   ]
  },
  {
   "cell_type": "code",
   "execution_count": 53,
   "id": "d85e7a29",
   "metadata": {},
   "outputs": [],
   "source": [
    "def extract_as_paras(db_loc):\n",
    "    db = pd.read_csv(db_loc)\n",
    "    paras = []\n",
    "    for ind in range(len(db)):\n",
    "        with open(db['locs'][ind], encoding=\"utf8\", errors=\"ignore\")as fi:\n",
    "            paras.append(fi.read())\n",
    "    \n",
    "    return paras"
   ]
  },
  {
   "cell_type": "code",
   "execution_count": 65,
   "id": "bdd42512",
   "metadata": {},
   "outputs": [
    {
     "name": "stdout",
     "output_type": "stream",
     "text": [
      "0.740365743637085\n"
     ]
    }
   ],
   "source": [
    "import time\n",
    "tic = time.time()\n",
    "ps = [\"What is the objective of football is , The objective of football is to score more goals than the opposing team.\", \"How many players are on a football team is ,A football team typically consists of 11 players on the field at a time.\", \"What are the dimensions of a football field is ,A football field is typically 100 yards long and 50 yards wide.\", \"What is the maximum number of substitutions allowed in a football match is, In most football competitions, a team is allowed to make up to three substitutions per match.\", \"mars in 2 words is , Red planet.\", \"is mars fine for living is , short is Mars is not currently fine for living short term or long term because the atmosphere is too thin to provide enough protection from harmful radiation and the temperature is too cold to sustain human life without significant technological support. However, scientists are working on developing technology and infrastructure that could potentially make it possible for humans to live on Mars in the future.\"]\n",
    "paras = get_text_as_paras('https://www.ibm.com/in-en/topics/deep-learning#:~:text=Machine%20Learning%20Accelerator-,What%20is%20deep%20learning%3F,from%20large%20amounts%20of%20data.')\n",
    "doc_finder = SemanticTFIDF(paras)\n",
    "tac = time.time()\n",
    "print(tac-tic)"
   ]
  },
  {
   "cell_type": "code",
   "execution_count": 66,
   "id": "20a99ed2",
   "metadata": {},
   "outputs": [
    {
     "data": {
      "text/plain": [
       "['What is Deep Learning? | IBM',\n",
       " 'Deep Learning',\n",
       " 'Deep Learning',\n",
       " 'Deep learning attempts to mimic the human brain—albeit far from matching its ability—enabling systems to cluster data and make predictions with incredible accuracy.',\n",
       " 'Featured products',\n",
       " 'Watson Studio',\n",
       " 'Watson Machine Learning Accelerator',\n",
       " 'What is deep learning?',\n",
       " 'Deep learning is a subset of\\xa0machine learning, which is essentially a neural network with three or more layers. These neural networks attempt to simulate the behavior of the human brain—albeit far from matching its ability—allowing it to “learn” from large amounts of data. While a neural network with a single layer can still make approximate predictions, additional hidden layers can help to optimize and refine for accuracy.',\n",
       " 'Deep learning drives many\\xa0artificial intelligence (AI)\\xa0applications and services that improve automation, performing analytical and physical tasks without human intervention. Deep learning technology lies behind everyday products and services (such as digital assistants, voice-enabled TV remotes, and credit card fraud detection) as well as emerging technologies (such as self-driving cars).',\n",
       " 'Related links',\n",
       " 'IBM Cloud Pak for Data',\n",
       " 'Accelerate your deep learning in IBM Cloud Pak for Data',\n",
       " 'Deep learning',\n",
       " 'Deep learning vs. machine learning',\n",
       " 'If deep learning is a subset of machine learning, how do they differ? Deep learning distinguishes itself from classical machine learning by the type of data that it works with and the methods in which it learns.',\n",
       " 'Machine learning algorithms leverage structured, labeled data to make predictions—meaning that specific features are defined from the input data for the model and organized into tables. This doesn’t necessarily mean that it doesn’t use unstructured data; it just means that if it does, it generally goes through some pre-processing to organize it into a structured format.',\n",
       " 'Deep learning eliminates some of data pre-processing that is typically involved with machine learning. These algorithms can ingest and process unstructured data, like text and images,\\xa0and it automates feature extraction, removing some of the dependency on human experts. For example, let’s say that we had a set of photos of different pets, and we wanted to categorize by “cat”, “dog”, “hamster”, et cetera. Deep learning algorithms can determine which features (e.g. ears) are most important to distinguish each animal from another. In machine learning, this hierarchy of features is established manually by a human expert.',\n",
       " 'Then, through the processes of gradient descent and backpropagation, the deep learning algorithm adjusts and fits itself for accuracy, allowing it to make predictions about a new photo of an animal with increased precision.',\n",
       " 'Machine learning and deep learning models are capable of different types of learning as well, which are usually categorized as supervised learning, unsupervised learning, and reinforcement learning. Supervised learning utilizes labeled datasets to categorize or make predictions; this requires some kind of human intervention to label input data correctly. In contrast, unsupervised learning doesn’t require labeled datasets, and instead, it detects patterns in the data, clustering them by any distinguishing characteristics. Reinforcement learning is a process in which a model learns to become more accurate for performing an action in an environment based on feedback in order to maximize the reward.',\n",
       " 'For a deeper dive on the nuanced differences between the different technologies, see \"AI vs. Machine Learning vs. Deep Learning vs. Neural Networks: What’s the Difference?\"',\n",
       " 'For a closer look at the specific differences between supervised and unsupervised learning, see \"Supervised vs. Unsupervised Learning: What\\'s the Difference?\"',\n",
       " 'How deep learning works',\n",
       " 'Deep learning neural networks, or artificial neural networks, attempts to mimic the human brain through a combination of data inputs, weights, and bias. These elements work together to accurately recognize, classify, and describe objects within the data.',\n",
       " 'Deep neural networks consist of multiple layers of interconnected nodes, each building upon the previous layer to refine and optimize the prediction or categorization. This progression of computations through the network is called forward propagation. The input and output layers of a deep neural network are called\\xa0visible\\xa0layers. The input layer is where the deep learning model ingests the data for processing, and the output layer is where the final prediction or classification is made.',\n",
       " 'Another process called backpropagation\\xa0uses algorithms, like\\xa0gradient descent, to calculate errors in predictions and then adjusts the weights and biases of the function by moving backwards through the layers in an effort to train the model. Together, forward propagation and backpropagation allow a neural network to make predictions and correct for any errors accordingly. Over time, the algorithm becomes gradually more accurate.',\n",
       " 'The above describes the simplest type of deep neural network in the simplest terms. However, deep learning algorithms are incredibly complex, and there are different types of neural networks to address specific problems or datasets. For example,',\n",
       " 'Convolutional neural networks (CNNs),\\xa0used primarily in computer vision and image classification applications, can detect features and patterns within an image, enabling tasks, like object detection or recognition. In 2015, a CNN bested a human in an object recognition challenge for the first time.',\n",
       " 'Recurrent neural network (RNNs)\\xa0are typically used in natural language and speech recognition applications as it leverages sequential or times series data.',\n",
       " 'Deep learning applications',\n",
       " 'Real-world deep learning applications are a part of our daily lives, but in most cases, they are so well-integrated into products and services that users are unaware of the complex data processing that is taking place in the background. Some of these examples include the following:',\n",
       " 'Law enforcement',\n",
       " 'Deep learning algorithms can analyze and learn from transactional data to identify dangerous patterns that indicate possible fraudulent or criminal activity. Speech recognition, computer vision, and other deep learning applications can improve the efficiency and effectiveness of investigative analysis by extracting patterns and evidence from sound and video recordings, images, and documents, which helps law enforcement analyze large amounts of data more quickly and accurately.',\n",
       " 'Financial services',\n",
       " 'Financial institutions regularly use predictive analytics to drive algorithmic trading of stocks, assess business risks for loan approvals, detect fraud, and help manage credit and investment portfolios for clients.',\n",
       " 'Customer service',\n",
       " 'Many organizations incorporate deep learning technology into their customer service processes.\\xa0Chatbots—used in a variety of applications, services, and customer service portals—are a straightforward form of AI. Traditional chatbots use natural language and even visual recognition, commonly found in call center-like menus. However, more\\xa0sophisticated chatbot solutions\\xa0attempt to determine, through learning, if there are multiple responses to ambiguous questions. Based on the responses it receives, the chatbot then tries to answer these questions directly or route the conversation to a human user.',\n",
       " \"Virtual assistants like Apple's Siri, Amazon Alexa, or Google Assistant extends the idea of a chatbot by enabling speech recognition functionality. This creates a new method to engage users in a personalized way.\",\n",
       " 'Healthcare',\n",
       " 'The healthcare industry has benefited greatly from deep learning capabilities ever since the digitization of hospital records and images. Image recognition applications can support medical imaging specialists and radiologists, helping them analyze and assess more images in less time.',\n",
       " 'Deep learning hardware requirements',\n",
       " 'Deep learning requires a tremendous amount of computing power. High performance\\xa0graphical processing units (GPUs)\\xa0are ideal because they can handle a large volume of calculations in multiple cores with copious memory available. However, managing multiple GPUs on-premises can create a large demand on internal resources and be incredibly costly to scale.',\n",
       " 'Deep learning and IBM',\n",
       " \"For decades now, IBM has been a pioneer in the development of AI technologies and deep learning, highlighted by the development of\\xa0IBM Watson, IBM's\\xa0AI chatbot. One of the earliest accomplishments in\\xa0deep learning\\xa0technology, Watson is now a trusted solution for enterprises looking to apply advanced natural language processing and machine learning techniques to their systems using a proven tiered approach to AI adoption and implementation.\",\n",
       " 'Watson uses the Apache Unstructured Information Management Architecture (UIMA) framework and IBM’s DeepQA software to make powerful deep learning capabilities available to applications. Utilizing tools like\\xa0IBM Watson Studio, your enterprise can harness your big data and bring your data science projects into production while deploying and running your models on any cloud.',\n",
       " 'For more information on how to get started with deep learning technology, explore\\xa0IBM Watson Studio.',\n",
       " 'Sign up for an IBMid and create your IBM Cloud account.',\n",
       " 'Related solutions',\n",
       " 'Watson is AI for smarter business',\n",
       " 'Watson is a portfolio of business-ready tools, applications and solutions, designed to reduce the costs and hurdles of AI adoption while optimizing outcomes and responsible use of AI.',\n",
       " 'Explore IBM Watson - AI for smarter business',\n",
       " 'Watson Assistant - AI Chatbot',\n",
       " 'Watson Assistant is the AI chatbot for business. This enterprise artificial intelligence technology enables users to build conversational AI solutions.',\n",
       " 'Explore',\n",
       " 'Watson Assistant',\n",
       " 'Watson Studio',\n",
       " 'Build, run and manage AI models. Prepare data and build models on any cloud using open source code or visual modeling. Predict and optimize your outcomes.',\n",
       " 'Explore Watson Studio',\n",
       " 'Resources',\n",
       " 'Artificial Intelligence ebook',\n",
       " 'Download the ebook']"
      ]
     },
     "execution_count": 66,
     "metadata": {},
     "output_type": "execute_result"
    }
   ],
   "source": [
    "paras"
   ]
  },
  {
   "cell_type": "code",
   "execution_count": 85,
   "id": "bdab7b62",
   "metadata": {},
   "outputs": [
    {
     "name": "stdout",
     "output_type": "stream",
     "text": [
      "The given query word application best suits application\n",
      "The given query word technology best suits technology\n"
     ]
    },
    {
     "data": {
      "text/plain": [
       "('deep learning drive many artificial intelligence ( ai ) application service improve automation , performing analytical physical task without human intervention . deep learning technology lie behind everyday product service ( such digital assistants , voice-enabled tv remotes , credit card fraud detection ) well emerging technology ( such self-driving cars ) .',\n",
       " 9)"
      ]
     },
     "execution_count": 85,
     "metadata": {},
     "output_type": "execute_result"
    }
   ],
   "source": [
    "doc_finder(\"application technology\")"
   ]
  },
  {
   "cell_type": "code",
   "execution_count": 18,
   "id": "f1b7b8dd",
   "metadata": {},
   "outputs": [],
   "source": [
    "fi = open(r'C:\\Users\\T.PRANEETH\\jaymama_chat.txt', encoding=\"utf8\", errors=\"ignore\")\n",
    "chat_lines = fi.readlines()"
   ]
  },
  {
   "cell_type": "code",
   "execution_count": 28,
   "id": "fe3b134e",
   "metadata": {},
   "outputs": [
    {
     "name": "stdout",
     "output_type": "stream",
     "text": [
      "30.681381464004517\n"
     ]
    }
   ],
   "source": [
    "chat_lines = list(map(str, chat_lines))\n",
    "tic = time.time()\n",
    "chat_finder = SemanticTFIDF(chat_lines)\n",
    "tac = time.time()\n",
    "print(tac-tic)"
   ]
  },
  {
   "cell_type": "code",
   "execution_count": 107,
   "id": "eb1c0e00",
   "metadata": {},
   "outputs": [
    {
     "name": "stdout",
     "output_type": "stream",
     "text": [
      "The given query word anonymous best suits anonymous\n",
      "The given query word logging best suits logged\n",
      "The given query word usage best suits use\n"
     ]
    },
    {
     "data": {
      "text/plain": [
       "\"b ' [ 28/07/20 , 09:19:57 ] pranu : jay mama , yesterday u said abt anonymous logins babaye\\\\xe2\\\\x80\\\\x99s account , intimated friend soft tone double check entering netflix profile , replied never enter profile also personally keep check viewing history regularly . sure guy guess could pranu\\\\xe2\\\\x80\\\\x99s ( pranay\\\\xe2\\\\x80\\\\x99s ) friends . guess\\\\r\\\\n '\""
      ]
     },
     "execution_count": 107,
     "metadata": {},
     "output_type": "execute_result"
    }
   ],
   "source": [
    "chat_finder(\"anonymous logging usage\")"
   ]
  },
  {
   "cell_type": "code",
   "execution_count": 29,
   "id": "1aeee072",
   "metadata": {},
   "outputs": [
    {
     "data": {
      "text/plain": [
       "0.025"
      ]
     },
     "execution_count": 29,
     "metadata": {},
     "output_type": "execute_result"
    }
   ],
   "source": []
  },
  {
   "cell_type": "code",
   "execution_count": null,
   "id": "b6b1beca",
   "metadata": {},
   "outputs": [],
   "source": []
  }
 ],
 "metadata": {
  "kernelspec": {
   "display_name": "Python 3",
   "language": "python",
   "name": "python3"
  },
  "language_info": {
   "codemirror_mode": {
    "name": "ipython",
    "version": 3
   },
   "file_extension": ".py",
   "mimetype": "text/x-python",
   "name": "python",
   "nbconvert_exporter": "python",
   "pygments_lexer": "ipython3",
   "version": "3.8.8"
  }
 },
 "nbformat": 4,
 "nbformat_minor": 5
}
